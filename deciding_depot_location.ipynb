{
 "cells": [
  {
   "cell_type": "markdown",
   "metadata": {},
   "source": [
    "# Deciding Depot Location\n",
    "\n",
    "This notebook contains the example code provided in the assignment text, with each task separated into its own cell.\n",
    "\n",
    "Once you have written the appropriate code for a particular task, you should be able to run the corresponding cell to reproduce the example output.\n",
    "\n",
    "This notebook assumes that:\n",
    "\n",
    "- Your code (`country.py` and `utilities.py`) files are located in the same directory as this notebook.\n",
    "- The `locations.csv` data file that we provided can be found at the relative path `./data/locations.csv` from the directory that this notebook is stored in.\n",
    "\n",
    "If neither of these are correct, you will need to adjust the setup cell with the correct paths.\n",
    "\n",
    "Remember that subsequent cells are dependent on cells that came before, so you will need to run the cells in this notebook **in sequence** from top to bottom. You can also use the \"restart and run all\" option to run the entire notebook from the beginning, in order - though you will get errors in those cells you haven't written the code for yet."
   ]
  },
  {
   "cell_type": "code",
   "execution_count": 1,
   "metadata": {
    "tags": [],
    "ExecuteTime": {
     "end_time": "2024-11-08T20:17:49.213019Z",
     "start_time": "2024-11-08T20:17:49.020054Z"
    }
   },
   "outputs": [],
   "source": [
    "# If you have moved the locations.csv file, you will need to update this variable\n",
    "from pathlib import Path\n",
    "locations_csv_file = Path(\"./data/locations.csv\").resolve()\n",
    "\n",
    "import numpy as np\n",
    "\n",
    "default_speed = 4.75\n",
    "# Travelling this distance without any penalties at the default speed should take 1 hour.\n",
    "one_hour_distance = 3_600 * default_speed"
   ]
  },
  {
   "cell_type": "markdown",
   "metadata": {},
   "source": [
    "## A Function for Travel Time"
   ]
  },
  {
   "cell_type": "code",
   "execution_count": 2,
   "metadata": {
    "tags": [],
    "ExecuteTime": {
     "end_time": "2024-11-08T20:17:58.023977Z",
     "start_time": "2024-11-08T20:17:49.151612Z"
    }
   },
   "outputs": [
    {
     "name": "stderr",
     "output_type": "stream",
     "text": [
      "Matplotlib is building the font cache; this may take a moment.\n"
     ]
    },
    {
     "ename": "TypeError",
     "evalue": "travel_time() missing 1 required positional argument: 'speed'",
     "output_type": "error",
     "traceback": [
      "\u001B[0;31m---------------------------------------------------------------------------\u001B[0m",
      "\u001B[0;31mTypeError\u001B[0m                                 Traceback (most recent call last)",
      "Cell \u001B[0;32mIn[2], line 3\u001B[0m\n\u001B[1;32m      1\u001B[0m \u001B[38;5;28;01mfrom\u001B[39;00m \u001B[38;5;21;01mcountry\u001B[39;00m \u001B[38;5;28;01mimport\u001B[39;00m travel_time\n\u001B[0;32m----> 3\u001B[0m \u001B[38;5;28mprint\u001B[39m(\u001B[38;5;124mf\u001B[39m\u001B[38;5;124m\"\u001B[39m\u001B[38;5;124mTravelling at the default speed: \u001B[39m\u001B[38;5;132;01m{\u001B[39;00m\u001B[43mtravel_time\u001B[49m\u001B[43m(\u001B[49m\u001B[43mone_hour_distance\u001B[49m\u001B[43m,\u001B[49m\u001B[38;5;250;43m \u001B[39;49m\u001B[38;5;241;43m0.\u001B[39;49m\u001B[43m,\u001B[49m\u001B[38;5;250;43m \u001B[39;49m\u001B[38;5;241;43m3.\u001B[39;49m\u001B[43m)\u001B[49m\u001B[38;5;132;01m:\u001B[39;00m\u001B[38;5;124m2.1f\u001B[39m\u001B[38;5;132;01m}\u001B[39;00m\u001B[38;5;124m h\u001B[39m\u001B[38;5;124m\"\u001B[39m)\n\u001B[1;32m      4\u001B[0m \u001B[38;5;28mprint\u001B[39m(\u001B[38;5;124mf\u001B[39m\u001B[38;5;124m\"\u001B[39m\u001B[38;5;124mTravelling at half default speed: \u001B[39m\u001B[38;5;132;01m{\u001B[39;00mtravel_time(one_hour_distance,\u001B[38;5;250m \u001B[39m\u001B[38;5;241m0.\u001B[39m,\u001B[38;5;250m \u001B[39m\u001B[38;5;241m0.\u001B[39m,\u001B[38;5;250m \u001B[39mspeed\u001B[38;5;250m \u001B[39m\u001B[38;5;241m=\u001B[39m\u001B[38;5;250m \u001B[39mdefault_speed\u001B[38;5;250m \u001B[39m\u001B[38;5;241m/\u001B[39m\u001B[38;5;250m \u001B[39m\u001B[38;5;241m2.\u001B[39m)\u001B[38;5;132;01m:\u001B[39;00m\u001B[38;5;124m2.1f\u001B[39m\u001B[38;5;132;01m}\u001B[39;00m\u001B[38;5;124m h\u001B[39m\u001B[38;5;124m\"\u001B[39m)\n\u001B[1;32m      5\u001B[0m \u001B[38;5;28mprint\u001B[39m(\u001B[38;5;124mf\u001B[39m\u001B[38;5;124m\"\u001B[39m\u001B[38;5;124mTravel at default speed but with a region penalty that equates to 3:  \u001B[39m\u001B[38;5;132;01m{\u001B[39;00mtravel_time(one_hour_distance,\u001B[38;5;250m \u001B[39m\u001B[38;5;241m1.\u001B[39m,\u001B[38;5;250m \u001B[39m\u001B[38;5;241m20.\u001B[39m)\u001B[38;5;132;01m:\u001B[39;00m\u001B[38;5;124m2.1f\u001B[39m\u001B[38;5;132;01m}\u001B[39;00m\u001B[38;5;124m h\u001B[39m\u001B[38;5;124m\"\u001B[39m)\n",
      "\u001B[0;31mTypeError\u001B[0m: travel_time() missing 1 required positional argument: 'speed'"
     ]
    }
   ],
   "source": [
    "from country import travel_time\n",
    "\n",
    "print(f\"Travelling at the default speed: {travel_time(one_hour_distance, 0., 3.):2.1f} h\")\n",
    "print(f\"Travelling at half default speed: {travel_time(one_hour_distance, 0., 0., speed = default_speed / 2.):2.1f} h\")\n",
    "print(f\"Travel at default speed but with a region penalty that equates to 3:  {travel_time(one_hour_distance, 1., 20.):2.1f} h\")"
   ]
  },
  {
   "cell_type": "markdown",
   "metadata": {},
   "source": [
    "## The `Location` Class"
   ]
  },
  {
   "cell_type": "code",
   "execution_count": null,
   "metadata": {
    "tags": [],
    "ExecuteTime": {
     "start_time": "2024-11-08T20:17:58.012305Z"
    }
   },
   "outputs": [],
   "source": [
    "from country import Location\n",
    "\n",
    "riverwood = Location(\"Riverwood\", \"Whiterun Hold\", 49_877.15654485528,-1.1153081421843865, False)\n",
    "heartwood_mill = Location(\"Heartwood Mill\", \"The Rift\", 164_031.25924652288,-0.6236682227787959, True)"
   ]
  },
  {
   "cell_type": "code",
   "execution_count": null,
   "metadata": {
    "tags": [],
    "ExecuteTime": {
     "start_time": "2024-11-08T20:17:58.013983Z"
    }
   },
   "outputs": [],
   "source": [
    "print(f\"Before changing depot: {heartwood_mill.settlement}\")\n",
    "heartwood_mill.depot = False\n",
    "print(f\"After changing depot: {heartwood_mill.settlement}\")\n",
    "\n",
    "bad_name = Location(\"noT CAPitalised\", \"Region\", 0.0, 0.0, False)\n",
    "print(f\"After creation, name is now: {bad_name.name}\")"
   ]
  },
  {
   "cell_type": "code",
   "execution_count": null,
   "metadata": {
    "tags": [],
    "ExecuteTime": {
     "start_time": "2024-11-08T20:17:58.015126Z"
    }
   },
   "outputs": [],
   "source": [
    "# Attempting to set the settlement property directly should throw an error.\n",
    "try:\n",
    "    heartwood_mill.settlement = False\n",
    "    print(\"If you are seeing this in the output, no error was raised!\")\n",
    "except Exception as e:\n",
    "    print(\"Attempting to assign to the settlement property raised the following error:\")\n",
    "    print(f\"\\t{e}\")"
   ]
  },
  {
   "cell_type": "code",
   "execution_count": null,
   "metadata": {
    "tags": [],
    "ExecuteTime": {
     "start_time": "2024-11-08T20:17:58.016188Z"
    }
   },
   "outputs": [],
   "source": [
    "riverwood = Location(\"Riverwood\", \"Whiterun Hold\", 49_877.15654485528,-1.1153081421843865, False)\n",
    "heartwood_mill = Location(\"Heartwood Mill\", \"The Rift\", 164_031.25924652288,-0.6236682227787959, True)\n",
    "\n",
    "print(f\"Riverwood's information: {riverwood}\")\n",
    "print(f\"Heartwood Mill's information: {heartwood_mill}\")"
   ]
  },
  {
   "cell_type": "code",
   "execution_count": null,
   "metadata": {
    "tags": [],
    "ExecuteTime": {
     "start_time": "2024-11-08T20:17:58.017383Z"
    }
   },
   "outputs": [],
   "source": [
    "RW_to_HM = riverwood.distance_to(heartwood_mill)\n",
    "print(f\"Distance from Riverwood to Heartwood Mill: {RW_to_HM}\")"
   ]
  },
  {
   "cell_type": "code",
   "execution_count": null,
   "metadata": {
    "tags": [],
    "ExecuteTime": {
     "start_time": "2024-11-08T20:17:58.018671Z"
    }
   },
   "outputs": [],
   "source": [
    "print(riverwood == riverwood)\n",
    "print(riverwood == heartwood_mill)\n",
    "\n",
    "# Do not forget that this task requires you to write a section in your report."
   ]
  },
  {
   "cell_type": "markdown",
   "metadata": {},
   "source": [
    "## The `Country` Class"
   ]
  },
  {
   "cell_type": "code",
   "execution_count": null,
   "metadata": {
    "tags": [],
    "ExecuteTime": {
     "start_time": "2024-11-08T20:17:58.020027Z"
    }
   },
   "outputs": [],
   "source": [
    "from country import Country\n",
    "\n",
    "riverwood = Location(\"Riverwood\", \"Whiterun Hold\", 49_877.15654485528,-1.1153081421843865, False)\n",
    "heartwood_mill = Location(\"Heartwood Mill\", \"The Rift\", 164_031.25924652288,-0.6236682227787959, True)\n",
    "karthwasten = Location(\"Karthwasten\", \"The Reach\", 138_231.89539682947,2.858973382047493, True)\n",
    "whiterun = Location(\"Whiterun\", \"Whiterun Hold\", 21_197.215713390284,-0.3577712724508101, False)\n",
    "list_of_locations = [riverwood, heartwood_mill, karthwasten, whiterun]\n",
    "country = Country(list_of_locations)\n",
    "\n",
    "print(\"List of locations passed in:\")\n",
    "for loc in list_of_locations:\n",
    "    print(f\"\\t{loc}\")\n",
    "assert isinstance(country._all_locations, tuple), \"Locations are not stored as a tuple in the Country class\"\n",
    "assert set(country._all_locations) == set(list_of_locations), \"Provided entries and those stored aren't the same\""
   ]
  },
  {
   "cell_type": "code",
   "execution_count": null,
   "metadata": {
    "ExecuteTime": {
     "start_time": "2024-11-08T20:17:58.022447Z"
    }
   },
   "outputs": [],
   "source": [
    "from utilities import read_country_data\n",
    "\n",
    "skyrim = read_country_data(locations_csv_file)"
   ]
  },
  {
   "cell_type": "code",
   "execution_count": null,
   "metadata": {
    "tags": [],
    "ExecuteTime": {
     "end_time": "2024-11-08T20:17:58.214481Z",
     "start_time": "2024-11-08T20:17:58.024392Z"
    }
   },
   "outputs": [],
   "source": [
    "print(f\"Number of settlements in Skyrim: {skyrim.n_settlements}\")\n",
    "print(\"List of those settlements:\")\n",
    "for settlement in skyrim.settlements:\n",
    "  print(f\"\\t{settlement}\")\n",
    "print(f\"Number of depots in Skyrim: {skyrim.n_depots}\")\n",
    "print(\"List of those depots:\")\n",
    "for depot in skyrim.depots:\n",
    "  print(f\"\\t{depot}\")\n",
    "\n",
    "skyrim_map = skyrim.plot_country()\n",
    "skyrim_map.show()"
   ]
  },
  {
   "cell_type": "code",
   "execution_count": null,
   "metadata": {
    "tags": [],
    "ExecuteTime": {
     "start_time": "2024-11-08T20:17:58.026019Z"
    }
   },
   "outputs": [],
   "source": [
    "RW_to_HM_time = skyrim.travel_time(riverwood, heartwood_mill)\n",
    "HM_to_RW_time = skyrim.travel_time(heartwood_mill, riverwood)\n",
    "\n",
    "print(f\"Travel time from Riverwood to Heartwood Mill: {RW_to_HM_time}\")\n",
    "print(f\"Travel time from Heartwood Mill to Riverwood: {HM_to_RW_time}\")\n",
    "\n",
    "kvatch = Location(\"Kvatch\", \"Cyrodiil\", 175_000, -3. * np.pi / 4., False)\n",
    "try:\n",
    "  skyrim.travel_time(riverwood, kvatch)\n",
    "  print(\"If you see this message in the output, no error was raised!\")\n",
    "except Exception as e:\n",
    "  print(\"Attempting to determine travel time to a location not in the country threw an error:\")\n",
    "  print(f\"\\t{e}\")"
   ]
  },
  {
   "cell_type": "code",
   "execution_count": null,
   "metadata": {
    "tags": [],
    "ExecuteTime": {
     "start_time": "2024-11-08T20:17:58.027565Z"
    }
   },
   "outputs": [],
   "source": [
    "# Of all the settlements in the country, find the one that has the shortest travel time from Riverwood\n",
    "print(f\"Using default args: {skyrim.fastest_trip_from(riverwood)}\")\n",
    "# Only consider the locations in skyrim.settlements[0, 1, 3, 4]\n",
    "print(f\"Selecting settlements: {skyrim.fastest_trip_from(riverwood, [0, 1, 3, 4])}\")\n",
    "# Only consider the locations provided explicitly\n",
    "print(f\"Providing explicit locations: {skyrim.fastest_trip_from(riverwood, [heartwood_mill, whiterun])}\")\n",
    "# Mix-and-match locations and indices\n",
    "print(f\"Mix and match selection: {skyrim.fastest_trip_from(riverwood, [0, whiterun, 2, 3, heartwood_mill])}\")"
   ]
  },
  {
   "cell_type": "code",
   "execution_count": null,
   "metadata": {
    "tags": [],
    "ExecuteTime": {
     "start_time": "2024-11-08T20:17:58.029365Z"
    }
   },
   "outputs": [],
   "source": [
    "tour_from_heartwood_mill, tour_time = skyrim.nn_tour(heartwood_mill)\n",
    "\n",
    "print(f\"Time to complete tour starting in Heartwood Mill: {tour_time:2.2f} h\")\n",
    "print(\"The tour path was:\")\n",
    "for loc in tour_from_heartwood_mill:\n",
    "  print(f\"\\t{loc}\")\n",
    "\n",
    "path_map = skyrim.plot_path(\n",
    "    path=tour_from_heartwood_mill,\n",
    "    polar_projection=True,\n",
    ")\n",
    "path_map.show()"
   ]
  },
  {
   "cell_type": "code",
   "execution_count": null,
   "metadata": {
    "tags": [],
    "ExecuteTime": {
     "start_time": "2024-11-08T20:17:58.030544Z"
    }
   },
   "outputs": [],
   "source": [
    "# This will produce no output text by itself\n",
    "best_depot = skyrim.best_depot_site(display=False)\n",
    "\n",
    "print(\"The best depot found was:\", best_depot)\n",
    "\n",
    "# This will automatically display some of the information that\n",
    "# is computed before returning the best depot\n",
    "print(\"\\nWith display=True however, we get information automatically...\\n\")\n",
    "best_depot_again = skyrim.best_depot_site()\n",
    "\n",
    "assert best_depot_again == best_depot"
   ]
  },
  {
   "cell_type": "markdown",
   "metadata": {},
   "source": [
    "## Execution Time for the NNA\n",
    "\n",
    "Your script should be callable from the command line.\n",
    "Running the cell below (with this notebook in the folder detailed at the start!) should also run your script as if it had been invoked with\n",
    "\n",
    "```bash\n",
    "python execution_time.py\n",
    "```"
   ]
  },
  {
   "cell_type": "code",
   "execution_count": null,
   "metadata": {
    "tags": [],
    "ExecuteTime": {
     "start_time": "2024-11-08T20:17:58.031728Z"
    }
   },
   "outputs": [],
   "source": [
    "%run -i execution_time.py"
   ]
  }
 ],
 "metadata": {
  "kernelspec": {
   "display_name": "Python 3 (ipykernel)",
   "language": "python",
   "name": "python3"
  },
  "language_info": {
   "codemirror_mode": {
    "name": "ipython",
    "version": 3
   },
   "file_extension": ".py",
   "mimetype": "text/x-python",
   "name": "python",
   "nbconvert_exporter": "python",
   "pygments_lexer": "ipython3",
   "version": "3.11.5"
  }
 },
 "nbformat": 4,
 "nbformat_minor": 4
}
